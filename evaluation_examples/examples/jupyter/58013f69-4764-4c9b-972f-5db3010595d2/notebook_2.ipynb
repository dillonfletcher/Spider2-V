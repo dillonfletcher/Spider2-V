{
 "cells": [
  {
   "cell_type": "markdown",
   "id": "71793c11",
   "metadata": {},
   "source": [
    "### Setting dtypes and saving memory"
   ]
  },
  {
   "cell_type": "code",
   "execution_count": 25,
   "id": "9a4f94df",
   "metadata": {},
   "outputs": [
    {
     "data": {
      "text/plain": [
       " Prof-specialty       4140\n",
       " Craft-repair         4099\n",
       " Exec-managerial      4066\n",
       " Adm-clerical         3770\n",
       " Sales                3650\n",
       " Other-service        3295\n",
       " Machine-op-inspct    2002\n",
       " ?                    1843\n",
       " Transport-moving     1597\n",
       " Handlers-cleaners    1370\n",
       " Farming-fishing       994\n",
       " Tech-support          928\n",
       " Protective-serv       649\n",
       " Priv-house-serv       149\n",
       " Armed-Forces            9\n",
       "Name: Occupation, dtype: int64"
      ]
     },
     "execution_count": 25,
     "metadata": {},
     "output_type": "execute_result"
    }
   ],
   "source": [
    "adult['Occupation'].value_counts()"
   ]
  },
  {
   "cell_type": "code",
   "execution_count": 26,
   "id": "a6ed7bc5",
   "metadata": {},
   "outputs": [],
   "source": [
    "list_of_occupations = adult['Occupation'].values.tolist()"
   ]
  },
  {
   "cell_type": "code",
   "execution_count": 27,
   "id": "07a783ac",
   "metadata": {},
   "outputs": [],
   "source": [
    "series1 = pd.Series(list_of_occupations)"
   ]
  },
  {
   "cell_type": "code",
   "execution_count": 28,
   "id": "4f4f8266",
   "metadata": {},
   "outputs": [
    {
     "name": "stdout",
     "output_type": "stream",
     "text": [
      "series1 data type: object\n",
      "series1 number of bytes: 260488\n"
     ]
    }
   ],
   "source": [
    "\n",
    "print(\"series1 data type:\", series1.dtype)\n",
    "print(\"series1 number of bytes:\", series1.nbytes)"
   ]
  },
  {
   "cell_type": "code",
   "execution_count": 29,
   "id": "dc004789",
   "metadata": {},
   "outputs": [],
   "source": [
    "\n",
    "series2 = pd.Series(list_of_occupations, dtype=\"category\")"
   ]
  },
  {
   "cell_type": "code",
   "execution_count": 30,
   "id": "2e41ac3e",
   "metadata": {},
   "outputs": [
    {
     "name": "stdout",
     "output_type": "stream",
     "text": [
      "series2 data type: category\n",
      "series2 number of bytes: 32681\n"
     ]
    }
   ],
   "source": [
    "print(\"series2 data type:\", series2.dtype)\n",
    "print(\"series2 number of bytes:\", series2.nbytes)"
   ]
  }
 ],
 "metadata": {
  "kernelspec": {
   "display_name": "Python 3 (ipykernel)",
   "language": "python",
   "name": "python3"
  },
  "language_info": {
   "codemirror_mode": {
    "name": "ipython",
    "version": 3
   },
   "file_extension": ".py",
   "mimetype": "text/x-python",
   "name": "python",
   "nbconvert_exporter": "python",
   "pygments_lexer": "ipython3",
   "version": "3.9.6"
  }
 },
 "nbformat": 4,
 "nbformat_minor": 5
}
